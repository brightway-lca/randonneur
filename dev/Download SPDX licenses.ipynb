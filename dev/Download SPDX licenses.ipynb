{
 "cells": [
  {
   "cell_type": "code",
   "execution_count": 5,
   "id": "f033d472-4929-4b91-af3a-b8b4da185a71",
   "metadata": {},
   "outputs": [],
   "source": [
    "import requests\n",
    "raw_data = requests.get(\"https://raw.githubusercontent.com/spdx/license-list-data/main/json/licenses.json\").json()['licenses']"
   ]
  },
  {
   "cell_type": "code",
   "execution_count": 6,
   "id": "fb8ba7ee-4314-4a46-9f5e-88a56a6c058c",
   "metadata": {},
   "outputs": [],
   "source": [
    "data = {\n",
    "    obj['licenseId']: {\n",
    "        \"name\": obj['licenseId'],\n",
    "        \"path\": obj['seeAlso'][0] if obj.get('seeAlso') else obj['reference'],\n",
    "        \"title\": obj['name']\n",
    "    } for obj in raw_data \n",
    "    if not obj[\"isDeprecatedLicenseId\"]\n",
    "}\n",
    "data.update({\n",
    "    \"name\": \"PROPRIETARY\", \n",
    "    \"path\": \"https://example.com\", \n",
    "    \"title\": \"Proprietary data not for use outside originating institution\"\n",
    "})"
   ]
  },
  {
   "cell_type": "code",
   "execution_count": 7,
   "id": "bda151ad-68a3-4b42-98ca-42600b39a4fb",
   "metadata": {},
   "outputs": [],
   "source": [
    "from pprint import pformat"
   ]
  },
  {
   "cell_type": "code",
   "execution_count": 8,
   "id": "9754c8b6-23d2-450b-8910-fea4b2c84f4b",
   "metadata": {},
   "outputs": [],
   "source": [
    "with open(\"../randonneur/licenses.py\", \"w\") as f:\n",
    "    f.write(\"LICENSES = {}\".format(pformat(data, width=100)))"
   ]
  },
  {
   "cell_type": "code",
   "execution_count": null,
   "id": "da9c7154-9b73-4ad6-aa1d-69f1a28221b6",
   "metadata": {},
   "outputs": [],
   "source": []
  }
 ],
 "metadata": {
  "kernelspec": {
   "display_name": "Python 3 (ipykernel)",
   "language": "python",
   "name": "python3"
  },
  "language_info": {
   "codemirror_mode": {
    "name": "ipython",
    "version": 3
   },
   "file_extension": ".py",
   "mimetype": "text/x-python",
   "name": "python",
   "nbconvert_exporter": "python",
   "pygments_lexer": "ipython3",
   "version": "3.10.14"
  }
 },
 "nbformat": 4,
 "nbformat_minor": 5
}
